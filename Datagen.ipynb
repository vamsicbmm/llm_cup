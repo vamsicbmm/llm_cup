{
 "cells": [
  {
   "cell_type": "markdown",
   "metadata": {
    "application/vnd.databricks.v1+cell": {
     "cellMetadata": {},
     "inputWidgets": {},
     "nuid": "9fcec809-eb5c-4560-becd-0aa93237796c",
     "showTitle": false,
     "title": ""
    },
    "colab_type": "text",
    "id": "view-in-github"
   },
   "source": [
    "<a href=\"https://colab.research.google.com/github/asokraju/LangChainDatasetForge/blob/main/Datagen.ipynb\" target=\"_parent\"><img src=\"https://colab.research.google.com/assets/colab-badge.svg\" alt=\"Open In Colab\"/></a>"
   ]
  },
  {
   "cell_type": "code",
   "execution_count": 0,
   "metadata": {
    "application/vnd.databricks.v1+cell": {
     "cellMetadata": {
      "byteLimit": 2048000,
      "rowLimit": 10000
     },
     "inputWidgets": {},
     "nuid": "10cf6e2d-170a-4870-b1a3-12f31f0c887c",
     "showTitle": false,
     "title": ""
    },
    "colab": {
     "base_uri": "https://localhost:8080/"
    },
    "id": "9KLhuZzuPySw",
    "outputId": "ad233f06-13eb-48f9-ee91-675b2ec8d393"
   },
   "outputs": [],
   "source": [
    "import random\n",
    "\n",
    "# Expanded Data Pools\n",
    "\n",
    "DURATION_POOL = [f\"{i} days\" for i in range(1, 31)] + [f\"{i} weeks\" for i in range(1, 9)]\n",
    "DESTINATIONS_POOL = [\"Paris\", \"New York\", \"Tokyo\", \"London\", \"Sydney\", \"Cairo\", \"Rio\", \"Cape Town\", \"Moscow\", \"Beijing\"]\n",
    "ACTIVITIES_POOL = [\"sightseeing\", \"trekking\", \"culinary experiences\", \"museum visits\", \"beach relaxation\", \"mountain climbing\"]\n",
    "BUDGET_POOL = [f\"${i}000\" for i in range(1, 21)]\n",
    "ACCOMMODATION_POOL = [\"hotel\", \"hostel\", \"B&B\", \"luxury resort\", \"rented apartment\"]\n",
    "TRANSPORTATION_POOL = [\"bus\", \"train\", \"flight\", \"rented car\", \"bicycle\"]\n",
    "\n",
    "# Additional Elements\n",
    "\n",
    "TRAVELERS_POOL = [f\"{i} persons\" for i in range(1, 11)]\n",
    "SEASON_POOL = [\"spring\", \"summer\", \"fall\", \"winter\"]\n",
    "MEAL_PREF_POOL = [\"local cuisine\", \"vegetarian meals\", \"vegan options\", \"seafood delights\", \"fast food\"]\n",
    "TRAVEL_TYPE_POOL = [\"solo\", \"couple\", \"family\", \"group\", \"business\", \"backpacking\"]\n",
    "BOOKING_MODE_POOL = [\"travel agency\", \"online platform\", \"direct booking\", \"last minute deals\"]\n",
    "GUIDE_PREF_POOL = [\"guided tours\", \"self-exploration\", \"audio guide\", \"local guide\", \"group tour\", \"private tour\"]\n",
    "LANG_PREF_POOL = [\"English\", \"French\", \"Spanish\", \"local language\", \"multilingual\"]\n",
    "CULTURAL_INTEREST_POOL = [\"historical sites\", \"modern attractions\", \"folk performances\", \"art galleries\", \"music concerts\"]\n",
    "\n",
    "def generate_travel_plan():\n",
    "    elements = {\n",
    "        \"Duration\": random.choice(DURATION_POOL),\n",
    "        \"Destinations\": \", \".join(random.sample(DESTINATIONS_POOL, random.randint(1, 3))),\n",
    "        \"Activities\": \", \".join(random.sample(ACTIVITIES_POOL, random.randint(1, 3))),\n",
    "        \"Budget\": random.choice(BUDGET_POOL),\n",
    "        \"Accommodation\": random.choice(ACCOMMODATION_POOL),\n",
    "        \"Transportation\": \", \".join(random.sample(TRANSPORTATION_POOL, random.randint(1, 3))),\n",
    "        \"Travelers\": random.choice(TRAVELERS_POOL),\n",
    "        \"Season\": random.choice(SEASON_POOL),\n",
    "        \"Meal Preference\": random.choice(MEAL_PREF_POOL),\n",
    "        \"Travel Type\": random.choice(TRAVEL_TYPE_POOL),\n",
    "        \"Booking Mode\": random.choice(BOOKING_MODE_POOL),\n",
    "        \"Guide Preference\": random.choice(GUIDE_PREF_POOL),\n",
    "        \"Language Preference\": random.choice(LANG_PREF_POOL),\n",
    "        \"Cultural Interest\": random.choice(CULTURAL_INTEREST_POOL)\n",
    "    }\n",
    "\n",
    "    # Drop some keys for variability\n",
    "    num_elements_to_use = random.randint(6, 10)  # Using between 6 and 10 elements\n",
    "    keys_to_use = random.sample(list(elements.keys()), num_elements_to_use)\n",
    "\n",
    "    # Construct the travel plan\n",
    "    plan_elements = [f\"{key}: {elements[key]}\" for key in keys_to_use]\n",
    "    travel_plan = \", \".join(plan_elements) + '.'\n",
    "\n",
    "    return travel_plan\n",
    "\n",
    "# Generate 100k structured travel plans\n",
    "\n",
    "data_points = 100_000\n",
    "structured_data = [generate_travel_plan() for _ in range(data_points)]\n",
    "\n",
    "# For demonstration, let's print the first 5 entries\n",
    "for entry in structured_data[:5]:\n",
    "    print(entry)\n",
    "    print(\"---------------------\")\n",
    "\n",
    "# To save the structured data into a text file\n",
    "with open(\"structured_data.txt\", \"w\") as f:\n",
    "    for entry in structured_data:\n",
    "        f.write(entry + \"\\n---------------------\\n\")\n"
   ]
  },
  {
   "cell_type": "code",
   "execution_count": 0,
   "metadata": {
    "application/vnd.databricks.v1+cell": {
     "cellMetadata": {
      "byteLimit": 2048000,
      "rowLimit": 10000
     },
     "inputWidgets": {},
     "nuid": "76775cd2-9705-4d16-b97b-add17b3b65a6",
     "showTitle": false,
     "title": ""
    },
    "colab": {
     "base_uri": "https://localhost:8080/"
    },
    "id": "GqrLbPAsT6XT",
    "outputId": "2fa86b2e-14eb-457f-f81e-60f3b7701a2a"
   },
   "outputs": [],
   "source": [
    "!pip install langchain\n",
    "!pip install tqdm\n",
    "!pip install OpenAI"
   ]
  },
  {
   "cell_type": "code",
   "execution_count": 0,
   "metadata": {
    "application/vnd.databricks.v1+cell": {
     "cellMetadata": {
      "byteLimit": 2048000,
      "rowLimit": 10000
     },
     "inputWidgets": {},
     "nuid": "4d0b93c5-efc4-4238-a7b6-6ae0d37437e0",
     "showTitle": false,
     "title": ""
    },
    "id": "z8wnri0DT9K8"
   },
   "outputs": [],
   "source": [
    "import os\n",
    "import openai\n",
    "openai.api_type = \"azure\" \n",
    "openai.api_base =  \"https://kf-llm.openai.azure.com/\" # Your Azure OpenAI resource's endpoint value.\n",
    "openai.api_key = \"d6e77295870f4e0fb5f44e2b96838801\"\n",
    "os.environ[\"OPENAI_API_KEY\"] = \"d6e77295870f4e0fb5f44e2b96838801\"\n",
    "os.environ[\"OPENAI_API_VERSION\"] = \"2023-03-15-preview\"\n",
    "os.environ[\"SERPAPI_API_KEY\"] = \"4ea6865054c8eb8608723170dd33e12314d8e182c10c16ee15565ccf03526e8e\"\n"
   ]
  },
  {
   "cell_type": "code",
   "execution_count": 0,
   "metadata": {
    "application/vnd.databricks.v1+cell": {
     "cellMetadata": {
      "byteLimit": 2048000,
      "rowLimit": 10000
     },
     "inputWidgets": {},
     "nuid": "6509f169-5a1e-4506-ae89-0c91e1ecfdb1",
     "showTitle": false,
     "title": ""
    },
    "id": "pXNjgcjiWoRZ"
   },
   "outputs": [],
   "source": [
    "import pandas as pd"
   ]
  },
  {
   "cell_type": "code",
   "execution_count": 0,
   "metadata": {
    "application/vnd.databricks.v1+cell": {
     "cellMetadata": {
      "byteLimit": 2048000,
      "rowLimit": 10000
     },
     "inputWidgets": {},
     "nuid": "3ea0a8ee-f486-49c3-b9e3-bbf73e928905",
     "showTitle": false,
     "title": ""
    },
    "colab": {
     "base_uri": "https://localhost:8080/"
    },
    "id": "pCeLJ_E4XGpN",
    "outputId": "9d90ad3e-8230-49a1-fa8b-1f747dc262bc"
   },
   "outputs": [],
   "source": [
    "import numpy as np\n",
    "\n",
    "# Read the file into a list\n",
    "with open(\"structured_data.txt\", \"r\") as file:\n",
    "    lines = file.readlines()\n",
    "\n",
    "# Split the list by the separator to get individual entries\n",
    "entries = [entry.strip() for entry in ''.join(lines).split(\"---------------------\") if entry.strip() != \"\"]\n",
    "\n",
    "# Convert the list into a NumPy array\n",
    "structured_data_array = np.array(entries)\n",
    "\n",
    "# Display the first few entries\n",
    "print(structured_data_array[:5])"
   ]
  },
  {
   "cell_type": "code",
   "execution_count": 0,
   "metadata": {
    "application/vnd.databricks.v1+cell": {
     "cellMetadata": {
      "byteLimit": 2048000,
      "rowLimit": 10000
     },
     "inputWidgets": {},
     "nuid": "a5a307ba-0a4d-4c61-ae73-3e7bffbf2aa1",
     "showTitle": false,
     "title": ""
    },
    "colab": {
     "base_uri": "https://localhost:8080/"
    },
    "id": "F3JB9zc9YwGr",
    "outputId": "3e590c73-56f8-41c2-f2f9-c365b6f5d326"
   },
   "outputs": [],
   "source": [
    "import random\n",
    "\n",
    "def pick_style():\n",
    "    styles = [\n",
    "        \"Narrative\", \"Persuasive\", \"Expository\", \"Journalistic\",\n",
    "        \"Satirical\", \"Stream-of-Consciousness\", \"Epistolary\", \"Conversational\",\n",
    "        \"Didactic\", \"Slang or Colloquial\"\n",
    "    ]\n",
    "\n",
    "    return random.choice(styles)\n",
    "\n",
    "chosen_style = pick_style()\n",
    "# print(f\"Randomly selected style: {chosen_style}\")\n",
    "\n",
    "\n",
    "plan_list = [\n",
    "    {\"user_plan\": plan, \"style\": pick_style()} for plan in structured_data_array\n",
    "]\n",
    "plan_list[0]"
   ]
  },
  {
   "cell_type": "code",
   "execution_count": 0,
   "metadata": {
    "application/vnd.databricks.v1+cell": {
     "cellMetadata": {
      "byteLimit": 2048000,
      "rowLimit": 10000
     },
     "inputWidgets": {},
     "nuid": "983552ae-d710-49a3-8c55-d6234ebd21ea",
     "showTitle": false,
     "title": ""
    },
    "colab": {
     "base_uri": "https://localhost:8080/",
     "height": 107
    },
    "id": "qvEgOEWEUBEy",
    "outputId": "39576a0f-e02e-4967-ca80-21bf3801b5d6"
   },
   "outputs": [],
   "source": [
    "\n",
    "\n",
    "from langchain import PromptTemplate\n",
    "\n",
    "demo_template='''\n",
    "I want you to come up with a unstructered text for the following plan: {user_plan}.\n",
    "Use the writing style: {style}\n",
    "for example: I'm thinking of a solo trip for about 2 weeks, primarily focusing on sightseeing and museum visits in Paris. I have a budget of around $5000.\n",
    "'''\n",
    "\n",
    "prompt=PromptTemplate(\n",
    "    input_variables=['user_plan','style'],\n",
    "    template=demo_template\n",
    "    )\n",
    "\n",
    "prompt.format(user_plan=structured_data_array[0], style=pick_style())\n",
    "\n",
    "\n"
   ]
  },
  {
   "cell_type": "code",
   "execution_count": 0,
   "metadata": {
    "application/vnd.databricks.v1+cell": {
     "cellMetadata": {
      "byteLimit": 2048000,
      "rowLimit": 10000
     },
     "inputWidgets": {},
     "nuid": "e246cf1c-e7fa-493e-9fe9-d5d19854c880",
     "showTitle": false,
     "title": ""
    },
    "id": "BPJnnG_RZRr0"
   },
   "outputs": [],
   "source": [
    "# from langchain.llms import OpenAI\n",
    "from langchain.chains import LLMChain\n",
    "from langchain.llms import AzureOpenAI\n",
    "\n",
    "# llm=OpenAI(temperature=0.5)\n",
    "\n",
    "llm = AzureOpenAI(\n",
    "    deployment_name=\"kf-gpt\",\n",
    "    model_name=\"gpt-35-turbo\",temperature= 0.3\n",
    ")\n",
    "chain=LLMChain(llm=llm,prompt=prompt)"
   ]
  },
  {
   "cell_type": "code",
   "execution_count": 0,
   "metadata": {
    "application/vnd.databricks.v1+cell": {
     "cellMetadata": {
      "byteLimit": 2048000,
      "rowLimit": 10000
     },
     "inputWidgets": {},
     "nuid": "a2c426c7-ef42-4881-a7a2-c71213593dee",
     "showTitle": false,
     "title": ""
    },
    "colab": {
     "base_uri": "https://localhost:8080/"
    },
    "id": "BFa91xtzYoSD",
    "outputId": "9b108188-16ad-4b8e-c722-244affcc9845"
   },
   "outputs": [],
   "source": [
    "from tqdm import tqdm\n",
    "\n",
    "summary = []\n",
    "for item in tqdm(plan_list[:10], desc='Processing topics'):\n",
    "    summary.append(chain.run(item))"
   ]
  },
  {
   "cell_type": "code",
   "execution_count": 0,
   "metadata": {
    "application/vnd.databricks.v1+cell": {
     "cellMetadata": {
      "byteLimit": 2048000,
      "rowLimit": 10000
     },
     "inputWidgets": {},
     "nuid": "c3a6fb9b-89da-4bcd-a47f-5787dbaf569c",
     "showTitle": false,
     "title": ""
    },
    "colab": {
     "base_uri": "https://localhost:8080/"
    },
    "id": "pwkfWZjZYLL7",
    "outputId": "90642d1a-35a1-4da3-ff09-1ec0bb65cf74"
   },
   "outputs": [],
   "source": [
    "for struct, unstruct in zip(structured_data_array, summary):\n",
    "    print(struct)\n",
    "    print(unstruct)\n",
    "    print(\"-----------------------\")"
   ]
  },
  {
   "cell_type": "code",
   "execution_count": 0,
   "metadata": {
    "application/vnd.databricks.v1+cell": {
     "cellMetadata": {
      "byteLimit": 2048000,
      "rowLimit": 10000
     },
     "inputWidgets": {},
     "nuid": "d36d30c7-7aab-4cfe-a7ad-ff5ca742077b",
     "showTitle": false,
     "title": ""
    },
    "colab": {
     "base_uri": "https://localhost:8080/",
     "height": 206
    },
    "id": "rficheAEZfaO",
    "outputId": "7d8dc477-6240-41b4-90aa-a01e58dc52f7"
   },
   "outputs": [],
   "source": [
    "\n",
    "topic_list = [\n",
    "    {\"user_plan\": user_plan, \"user_input\": user_input}\n",
    "    for user_plan, user_input in zip(structured_data_array, summary)\n",
    "]\n",
    "\n",
    "# Convert the list of dictionaries to a DataFrame\n",
    "df = pd.DataFrame(topic_list)\n",
    "\n",
    "# Save the DataFrame to a CSV file\n",
    "df.to_csv('dataset.csv', index=False, encoding='utf-8')\n",
    "df.head()"
   ]
  },
  {
   "cell_type": "code",
   "execution_count": 0,
   "metadata": {
    "application/vnd.databricks.v1+cell": {
     "cellMetadata": {},
     "inputWidgets": {},
     "nuid": "3fabb630-6a92-40a4-9c74-f496e70a2dde",
     "showTitle": false,
     "title": ""
    },
    "id": "qi-WJ6QlaIMG"
   },
   "outputs": [],
   "source": []
  },
  {
   "cell_type": "code",
   "execution_count": 0,
   "metadata": {
    "application/vnd.databricks.v1+cell": {
     "cellMetadata": {
      "byteLimit": 2048000,
      "rowLimit": 10000
     },
     "inputWidgets": {},
     "nuid": "1917bcbd-6c6a-47f6-b99b-c161b223c6b6",
     "showTitle": false,
     "title": ""
    },
    "colab": {
     "base_uri": "https://localhost:8080/"
    },
    "id": "zFkYjL5G8Hia",
    "outputId": "bb003fe3-eba0-4f11-b6b8-5cbd09885572"
   },
   "outputs": [],
   "source": [
    "topic_list[0]"
   ]
  },
  {
   "cell_type": "markdown",
   "metadata": {
    "application/vnd.databricks.v1+cell": {
     "cellMetadata": {},
     "inputWidgets": {},
     "nuid": "bb061c0e-4f83-437e-a463-8fe54673e52e",
     "showTitle": false,
     "title": ""
    },
    "id": "ju_kJ7JIagHV"
   },
   "source": [
    "# extra"
   ]
  },
  {
   "cell_type": "code",
   "execution_count": 0,
   "metadata": {
    "application/vnd.databricks.v1+cell": {
     "cellMetadata": {
      "byteLimit": 2048000,
      "rowLimit": 10000
     },
     "inputWidgets": {},
     "nuid": "d12a8ac6-2e8e-4bd6-93e6-d7532f21114c",
     "showTitle": false,
     "title": ""
    },
    "colab": {
     "base_uri": "https://localhost:8080/"
    },
    "id": "lLBj1posaf34",
    "outputId": "d5ffd1e3-d6d6-4bf4-d52b-17a5acf7030a"
   },
   "outputs": [],
   "source": [
    "import numpy as np\n",
    "\n",
    "# Read the file into a list\n",
    "with open(\"structured_data.txt\", \"r\") as file:\n",
    "    lines = file.readlines()\n",
    "\n",
    "# Split the list by the separator to get individual entries\n",
    "entries = [entry.strip() for entry in ''.join(lines).split(\"---------------------\") if entry.strip() != \"\"]\n",
    "\n",
    "# Convert the list into a NumPy array\n",
    "structured_data_array = np.array(entries)\n",
    "\n",
    "# Display the first few entries\n",
    "print(structured_data_array[:5])\n"
   ]
  }
 ],
 "metadata": {
  "application/vnd.databricks.v1+notebook": {
   "dashboards": [],
   "language": "python",
   "notebookMetadata": {
    "pythonIndentUnit": 4
   },
   "notebookName": "Datagen",
   "widgets": {}
  },
  "colab": {
   "authorship_tag": "ABX9TyO20dKsJ23bI4VUERqMYoGQ",
   "include_colab_link": true,
   "provenance": []
  },
  "kernelspec": {
   "display_name": "Python 3",
   "name": "python3"
  },
  "language_info": {
   "name": "python"
  }
 },
 "nbformat": 4,
 "nbformat_minor": 0
}
